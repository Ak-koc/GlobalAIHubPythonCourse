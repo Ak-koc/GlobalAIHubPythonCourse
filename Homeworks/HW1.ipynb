{
 "cells": [
  {
   "cell_type": "markdown",
   "metadata": {},
   "source": [
    "# Homework1"
   ]
  },
  {
   "cell_type": "markdown",
   "metadata": {},
   "source": [
    "### 1. Create a List and swap the second half of the list with the first half of the list and print this list on the screen."
   ]
  },
  {
   "cell_type": "code",
   "execution_count": 1,
   "metadata": {},
   "outputs": [
    {
     "name": "stdout",
     "output_type": "stream",
     "text": [
      "['Abdulkadir', 'Koç', 'Bilgisayar', 'Mühendisi']\n"
     ]
    }
   ],
   "source": [
    "myList = [\"Abdulkadir\",\"Koç\",\"Bilgisayar\",\"Mühendisi\"]\n",
    "print(myList)"
   ]
  },
  {
   "cell_type": "code",
   "execution_count": 2,
   "metadata": {},
   "outputs": [
    {
     "data": {
      "text/plain": [
       "4"
      ]
     },
     "execution_count": 2,
     "metadata": {},
     "output_type": "execute_result"
    }
   ],
   "source": [
    "len(myList)"
   ]
  },
  {
   "cell_type": "code",
   "execution_count": 3,
   "metadata": {},
   "outputs": [
    {
     "name": "stdout",
     "output_type": "stream",
     "text": [
      "['Bilgisayar', 'Mühendisi', 'Abdulkadir', 'Koç']\n"
     ]
    }
   ],
   "source": [
    "x = int(len(myList)/2)\n",
    "myList = myList[x:] + myList[:x]\n",
    "print(myList)"
   ]
  },
  {
   "cell_type": "markdown",
   "metadata": {},
   "source": [
    "### 2. Ask the user to input a single digit integer to a variable 'n'. Then, print out all of the even numbers from 0 to n (including n)\n"
   ]
  },
  {
   "cell_type": "code",
   "execution_count": 4,
   "metadata": {
    "scrolled": true
   },
   "outputs": [
    {
     "name": "stdout",
     "output_type": "stream",
     "text": [
      "Please enter a single digit intiger: -10\n",
      "Please enter a single digit intiger: 10\n",
      "Please enter a single digit intiger: -9\n",
      "0\n",
      "-2\n",
      "-4\n",
      "-6\n",
      "-8\n"
     ]
    }
   ],
   "source": [
    "n = int(input(\"Please enter a single digit intiger: \"))\n",
    "\n",
    "\n",
    "while n > 9 or n < -9:\n",
    "    n = int(input(\"Please enter a single digit intiger: \"))\n",
    "\n",
    "if n<0: \n",
    "    n *= -1\n",
    "    for i in list(range(0,n+1,2)):\n",
    "        print(i*(-1))\n",
    "else:\n",
    "    for i in list(range(0,n+1,2)):\n",
    "        print(i)"
   ]
  },
  {
   "cell_type": "code",
   "execution_count": null,
   "metadata": {},
   "outputs": [],
   "source": []
  }
 ],
 "metadata": {
  "kernelspec": {
   "display_name": "Python 3",
   "language": "python",
   "name": "python3"
  },
  "language_info": {
   "codemirror_mode": {
    "name": "ipython",
    "version": 3
   },
   "file_extension": ".py",
   "mimetype": "text/x-python",
   "name": "python",
   "nbconvert_exporter": "python",
   "pygments_lexer": "ipython3",
   "version": "3.8.5"
  }
 },
 "nbformat": 4,
 "nbformat_minor": 4
}
