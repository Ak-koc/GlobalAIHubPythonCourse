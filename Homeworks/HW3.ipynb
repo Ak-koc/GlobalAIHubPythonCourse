{
 "cells": [
  {
   "cell_type": "code",
   "execution_count": null,
   "metadata": {},
   "outputs": [],
   "source": [
    "students = {}"
   ]
  },
  {
   "cell_type": "code",
   "execution_count": null,
   "metadata": {},
   "outputs": [],
   "source": [
    "def add_student(name,midterm,project,final):\n",
    "    students[name] = [midterm,project,final]    "
   ]
  },
  {
   "cell_type": "code",
   "execution_count": null,
   "metadata": {},
   "outputs": [],
   "source": [
    "def passingGrade(name):    \n",
    "    grades = students[name]\n",
    "    total = (grades[0] * 0.3) + (grades[1] * 0.3) + (grades[2] * 0.4)\n",
    "    return total"
   ]
  },
  {
   "cell_type": "code",
   "execution_count": null,
   "metadata": {},
   "outputs": [],
   "source": [
    "def add_pass_to_list():\n",
    "    pass_grades_list = []\n",
    "    for name in students:\n",
    "        grades = students[name]\n",
    "        pass_grades_list.append(grades[-1])\n",
    "    return pass_grades_list    "
   ]
  },
  {
   "cell_type": "code",
   "execution_count": null,
   "metadata": {},
   "outputs": [],
   "source": [
    "def first_last_student(grades):\n",
    "    for name, val in students.items():\n",
    "        if val[-1] == grades[0]:\n",
    "            print(\"The student have highest grade is \" + name + \": \" + str(grades[0]))\n",
    "        if val[-1] == grades[-1]:\n",
    "            print(\"The student have lowest grade is \" + name + \": \" + str(grades[-1]))      "
   ]
  },
  {
   "cell_type": "code",
   "execution_count": null,
   "metadata": {},
   "outputs": [],
   "source": [
    "x=0\n",
    "while x!=5:\n",
    "    name = input(\"Plese enter student name: \")\n",
    "    midterm = float(input(\"Please enter midterm grade of student: \"))\n",
    "    project = float(input(\"Please enter project grade of student: \"))\n",
    "    final = float(input(\"Please enter final grade of student: \"))\n",
    "    add_student(name,midterm,project,final)\n",
    "    students[name].append(passingGrade(name))\n",
    "    x += 1"
   ]
  },
  {
   "cell_type": "code",
   "execution_count": null,
   "metadata": {},
   "outputs": [],
   "source": [
    "t = add_pass_to_list()\n",
    "\n",
    "t.sort()\n",
    "t.reverse()\n",
    "t"
   ]
  },
  {
   "cell_type": "code",
   "execution_count": null,
   "metadata": {},
   "outputs": [],
   "source": [
    "first_last_student(t)"
   ]
  },
  {
   "cell_type": "code",
   "execution_count": null,
   "metadata": {},
   "outputs": [],
   "source": []
  }
 ],
 "metadata": {
  "kernelspec": {
   "display_name": "Python 3",
   "language": "python",
   "name": "python3"
  },
  "language_info": {
   "codemirror_mode": {
    "name": "ipython",
    "version": 3
   },
   "file_extension": ".py",
   "mimetype": "text/x-python",
   "name": "python",
   "nbconvert_exporter": "python",
   "pygments_lexer": "ipython3",
   "version": "3.8.5"
  }
 },
 "nbformat": 4,
 "nbformat_minor": 4
}
