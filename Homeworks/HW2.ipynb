{
 "cells": [
  {
   "cell_type": "code",
   "execution_count": 1,
   "metadata": {},
   "outputs": [
    {
     "data": {
      "text/plain": [
       "dict"
      ]
     },
     "execution_count": 1,
     "metadata": {},
     "output_type": "execute_result"
    }
   ],
   "source": [
    "user_database = {}\n",
    "type(user_database)"
   ]
  },
  {
   "cell_type": "code",
   "execution_count": 2,
   "metadata": {},
   "outputs": [
    {
     "name": "stdout",
     "output_type": "stream",
     "text": [
      "{'Abdulkadir Koç': 'Kadir_Kadir'}\n"
     ]
    }
   ],
   "source": [
    "user_database = {\"Abdulkadir Koç\":\"Kadir_Kadir\"}\n",
    "print (user_database)"
   ]
  },
  {
   "cell_type": "code",
   "execution_count": 3,
   "metadata": {},
   "outputs": [
    {
     "data": {
      "text/plain": [
       "dict_keys(['Abdulkadir Koç'])"
      ]
     },
     "execution_count": 3,
     "metadata": {},
     "output_type": "execute_result"
    }
   ],
   "source": [
    "user_database.keys()"
   ]
  },
  {
   "cell_type": "code",
   "execution_count": null,
   "metadata": {},
   "outputs": [],
   "source": []
  },
  {
   "cell_type": "code",
   "execution_count": 4,
   "metadata": {},
   "outputs": [
    {
     "name": "stdout",
     "output_type": "stream",
     "text": [
      "What do you want to do? \n",
      "1. Enter 'R' for Register \n",
      "2. Enter 'L' for Login\n",
      "R\n",
      "Please enter your user name: akkoç\n",
      "Please enter your password: ak.ak\n",
      "Register successfuly\n"
     ]
    }
   ],
   "source": [
    "success = 0\n",
    "selection = input(\"What do you want to do? \\n1. Enter 'R' for Register \\n2. Enter 'L' for Login\\n\")\n",
    "if selection == \"R\":\n",
    "    while success == 0:\n",
    "        user_name = input(\"Please enter your user name: \")\n",
    "        user_pass = input(\"Please enter your password: \")\n",
    "        for user in user_database.keys():\n",
    "            if user == user_name:\n",
    "                print(user_name + \" already used\")\n",
    "            else:    \n",
    "                print(\"Register successfuly\")\n",
    "                success = 1\n",
    "    user_database[user_name] = user_pass\n",
    "    \n",
    "elif selection == \"L\":\n",
    "    success = 0\n",
    "    while success == 0:\n",
    "        user_name = input(\"Please enter your user name: \")\n",
    "        user_pass = input(\"Please enter your password: \")\n",
    "        for user,password in user_database.items():\n",
    "            if user == user_name and password == user_pass:\n",
    "                print(\"Login successfully\")\n",
    "                success = 1\n",
    "            else:\n",
    "                print(\"Username or password incorrect\")\n",
    "                forget = input(\"Forget your password: '(Y/N)' \")                \n",
    "                if forget == \"Y\":\n",
    "                    usr = input(\"Plese enter your username: \")                    \n",
    "                    print(\"Your password is \" + user_database[usr] )\n",
    "                    \n",
    "                        \n",
    "else:\n",
    "    print(\"Process Terminated:\")"
   ]
  },
  {
   "cell_type": "code",
   "execution_count": 5,
   "metadata": {},
   "outputs": [
    {
     "name": "stdout",
     "output_type": "stream",
     "text": [
      "{'Abdulkadir Koç': 'Kadir_Kadir', 'akkoç': 'ak.ak'}\n"
     ]
    }
   ],
   "source": [
    "print(user_database)"
   ]
  },
  {
   "cell_type": "code",
   "execution_count": null,
   "metadata": {},
   "outputs": [],
   "source": []
  },
  {
   "cell_type": "code",
   "execution_count": null,
   "metadata": {},
   "outputs": [],
   "source": []
  },
  {
   "cell_type": "code",
   "execution_count": null,
   "metadata": {},
   "outputs": [],
   "source": []
  }
 ],
 "metadata": {
  "kernelspec": {
   "display_name": "Python 3",
   "language": "python",
   "name": "python3"
  },
  "language_info": {
   "codemirror_mode": {
    "name": "ipython",
    "version": 3
   },
   "file_extension": ".py",
   "mimetype": "text/x-python",
   "name": "python",
   "nbconvert_exporter": "python",
   "pygments_lexer": "ipython3",
   "version": "3.8.5"
  }
 },
 "nbformat": 4,
 "nbformat_minor": 4
}
